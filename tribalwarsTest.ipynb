{
 "cells": [
  {
   "cell_type": "code",
   "execution_count": 7,
   "metadata": {},
   "outputs": [
    {
     "ename": "ModuleNotFoundError",
     "evalue": "No module named 'numpy'",
     "output_type": "error",
     "traceback": [
      "\u001b[1;31m---------------------------------------------------------------------------\u001b[0m",
      "\u001b[1;31mModuleNotFoundError\u001b[0m                       Traceback (most recent call last)",
      "Cell \u001b[1;32mIn[7], line 19\u001b[0m\n\u001b[0;32m      1\u001b[0m \u001b[38;5;66;03m#1: (((0.1 * capacity) ^ 2 * 100) ^ 0.45 + 1800) * 0.6830201284\u001b[39;00m\n\u001b[0;32m      2\u001b[0m \u001b[38;5;66;03m#2: (((0.25 * capacity) ^ 2 * 100) ^ 0.45 + 1800) * 0.6830201284\u001b[39;00m\n\u001b[0;32m      3\u001b[0m \u001b[38;5;66;03m#3: (((0.5 * capacity) ^ 2 * 100) ^ 0.45 + 1800) * 0.6830201284\u001b[39;00m\n\u001b[1;32m   (...)\u001b[0m\n\u001b[0;32m     16\u001b[0m \u001b[38;5;66;03m#Total 274: 225, 36, 9, 4\u001b[39;00m\n\u001b[0;32m     17\u001b[0m \u001b[38;5;66;03m#57%, 23%, 12%, 8%\u001b[39;00m\n\u001b[1;32m---> 19\u001b[0m \u001b[38;5;28;01mimport\u001b[39;00m \u001b[38;5;21;01mnumpy\u001b[39;00m \u001b[38;5;28;01mas\u001b[39;00m \u001b[38;5;21;01mnp\u001b[39;00m\n\u001b[0;32m     20\u001b[0m \u001b[38;5;28;01mimport\u001b[39;00m \u001b[38;5;21;01mmatplotlib\u001b[39;00m\u001b[38;5;21;01m.\u001b[39;00m\u001b[38;5;21;01mpyplot\u001b[39;00m \u001b[38;5;28;01mas\u001b[39;00m \u001b[38;5;21;01mplt\u001b[39;00m\n\u001b[0;32m     22\u001b[0m \u001b[38;5;28;01mdef\u001b[39;00m \u001b[38;5;21mtime_to_loot\u001b[39m(capacity, factor):\n",
      "\u001b[1;31mModuleNotFoundError\u001b[0m: No module named 'numpy'"
     ]
    }
   ],
   "source": [
    "#1: (((0.1 * capacity) ^ 2 * 100) ^ 0.45 + 1800) * 0.6830201284\n",
    "#2: (((0.25 * capacity) ^ 2 * 100) ^ 0.45 + 1800) * 0.6830201284\n",
    "#3: (((0.5 * capacity) ^ 2 * 100) ^ 0.45 + 1800) * 0.6830201284\n",
    "#4: (((0.75 * capacity) ^ 2 * 100) ^ 0.45 + 1800) * 0.6830201284\n",
    "\n",
    "#Let F(a,b,c,d) be the combined capacity/time.\n",
    "#F(a,b,c,d) = A(a) + B(b) + C(c) + D(d)\n",
    "\n",
    "#There's one constraint: allot the available capacity to a + b + c + d.\n",
    "#G(a,b,c,d) = a + b + c + d\n",
    "\n",
    "#You could use the method of Lagrange multipliers.\n",
    "\n",
    "#import scipy\n",
    "#scipy.optimize() - use slsqp or plug random capacity?\n",
    "#Total 274: 225, 36, 9, 4\n",
    "#57%, 23%, 12%, 8%\n",
    "\n",
    "import numpy as np\n",
    "import matplotlib.pyplot as plt\n",
    "\n",
    "def time_to_loot(capacity, factor):\n",
    "    return (((factor * capacity) ** 2 * 100) ** 0.45 + 1800) * 0.6830201284\n",
    "\n",
    "factors = [0.1, 0.25, 0.5, 0.75]\n",
    "colors = ['r', 'g', 'b', 'y']\n",
    "labels = ['Formula 1', 'Formula 2', 'Formula 3', 'Formula 4']\n",
    "\n",
    "capacities = np.arange(100, 6001, 100)\n",
    "total_loots = []\n",
    "total_times = []\n",
    "\n",
    "for capacity in capacities:\n",
    "    individual_capacity = capacity / 4\n",
    "    total_loot = 0\n",
    "    total_time = 0\n",
    "    for factor in factors:\n",
    "        total_loot += individual_capacity * factor\n",
    "        total_time += time_to_loot(individual_capacity, factor)\n",
    "    total_loots.append(total_loot)\n",
    "    total_times.append(total_time)\n",
    "\n",
    "plt.figure(figsize=(12, 6))\n",
    "\n",
    "plt.subplot(1, 2, 1)\n",
    "plt.plot(capacities, total_loots, 'k-', label='Total Loot')\n",
    "plt.xlabel('Total Capacity')\n",
    "plt.ylabel('Total Loot')\n",
    "plt.title('Total Loot vs. Total Capacity')\n",
    "plt.legend()\n",
    "\n",
    "plt.subplot(1, 2, 2)\n",
    "plt.plot(capacities, total_times, 'k--', label='Total Time')\n",
    "plt.xlabel('Total Capacity')\n",
    "plt.ylabel('Total Time')\n",
    "plt.title('Total Time vs. Total Capacity')\n",
    "plt.legend()\n",
    "\n",
    "plt.tight_layout()\n",
    "plt.show()\n",
    "\n"
   ]
  }
 ],
 "metadata": {
  "kernelspec": {
   "display_name": "Python 3",
   "language": "python",
   "name": "python3"
  },
  "language_info": {
   "codemirror_mode": {
    "name": "ipython",
    "version": 3
   },
   "file_extension": ".py",
   "mimetype": "text/x-python",
   "name": "python",
   "nbconvert_exporter": "python",
   "pygments_lexer": "ipython3",
   "version": "3.12.2"
  }
 },
 "nbformat": 4,
 "nbformat_minor": 2
}
